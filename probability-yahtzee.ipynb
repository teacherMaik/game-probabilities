{
 "cells": [
  {
   "cell_type": "markdown",
   "metadata": {},
   "source": [
    "The game consists of 13 rounds. In each round, a player gets three rolls of the dice.\n",
    "A player can choose to end their turn after one or two rolls. \n",
    "After the first roll and second roll, the player can save any dice they want and re-roll the other dice.\n",
    "\n",
    "UPPER SECTION SCORES:\n",
    "    Aces: Sum of all Aces rolled\n",
    "    Twos: Sum of all Twos rolled\n",
    "    Threes: Sum of all Threes rolled\n",
    "    Fours: Sum of all Fours rolled\n",
    "    Fives: Sum of all Fives rolled\n",
    "    Sixes: Sum of all Sixes rolled\n",
    "\n",
    "LOWER SECTION SCORES:\n",
    "    3 of a kind: Sum of all 5 die when any 3 same numbers have been rolled\n",
    "    4 of a kind: Sum of all 5 die when any 4 same numbers have been rolled\n",
    "    Full House (Two same numbers and 3 other same numbers): 25 points\n",
    "    Small Straight (Sequence of 4 numbers): 30 points\n",
    "    Large Straight (Sequence of all 5 numbers): 40 points\n",
    "    Yahtzee (5 of a kind): 50 points\n",
    "    Chance: Sum of all 5 die regardless of their numbers"
   ]
  },
  {
   "cell_type": "code",
   "execution_count": null,
   "metadata": {},
   "outputs": [
    {
     "name": "stdout",
     "output_type": "stream",
     "text": [
      "{1, 2, 3, 4, 5, 6}\n"
     ]
    }
   ],
   "source": [
    "#Espacio Muestral\n",
    "diceRolls = {1, 2, 3, 4, 5, 6}\n",
    "numDice = 2\n",
    "\n",
    "\n",
    "\n"
   ]
  }
 ],
 "metadata": {
  "kernelspec": {
   "display_name": "venv",
   "language": "python",
   "name": "python3"
  },
  "language_info": {
   "codemirror_mode": {
    "name": "ipython",
    "version": 3
   },
   "file_extension": ".py",
   "mimetype": "text/x-python",
   "name": "python",
   "nbconvert_exporter": "python",
   "pygments_lexer": "ipython3",
   "version": "3.13.1"
  }
 },
 "nbformat": 4,
 "nbformat_minor": 2
}

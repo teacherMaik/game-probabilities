{
 "cells": [
  {
   "cell_type": "markdown",
   "metadata": {},
   "source": [
    "Ispired by card game THE MIND. Player must allocate 14 random numbers in ascending order.\n",
    "Each number can be between 1-42. Each number is \"drawn\" one by one randomly."
   ]
  },
  {
   "cell_type": "code",
   "execution_count": 28,
   "metadata": {},
   "outputs": [
    {
     "name": "stdout",
     "output_type": "stream",
     "text": [
      "[1, 2, 3, 4, 5, 6, 7, 8, 9, 10, 11, 12, 13, 14, 15, 16, 17, 18, 19, 20, 21, 22, 23, 24, 25, 26, 27, 28, 29, 30, 31, 32, 33, 34, 35, 36, 37, 38, 39, 40, 41, 42]\n",
      "[42, 8, 39, 36, 35, 11, 1, 6, 7, 30, 5, 28, 27, 15, 3, 10, 26, 41, 21, 14, 37, 22, 29, 18, 25, 19, 33, 13, 9, 2, 4, 23, 31, 20, 12, 17, 38, 34, 16, 24, 40, 32]\n",
      "[0, 0, 0, 0, 0, 0, 0, 0, 0, 0, 0, 0, 0, 42]\n",
      "True\n",
      "[0, 0, 8, 0, 0, 0, 0, 0, 0, 0, 0, 0, 0, 42]\n",
      "True\n",
      "[0, 0, 8, 0, 0, 0, 0, 0, 0, 0, 0, 0, 39, 42]\n",
      "True\n",
      "[0, 0, 8, 0, 0, 0, 0, 0, 0, 0, 0, 36, 39, 42]\n",
      "True\n",
      "[0, 0, 8, 0, 0, 0, 0, 0, 0, 0, 35, 36, 39, 42]\n",
      "True\n",
      "[0, 0, 8, 11, 0, 0, 0, 0, 0, 0, 35, 36, 39, 42]\n",
      "True\n",
      "[1, 0, 8, 11, 0, 0, 0, 0, 0, 0, 35, 36, 39, 42]\n",
      "True\n",
      "[1, 6, 8, 11, 0, 0, 0, 0, 0, 0, 35, 36, 39, 42]\n",
      "True\n",
      "[1, 6, 8, 11, 7, 0, 0, 0, 0, 0, 35, 36, 39, 42]\n",
      "False\n",
      "game over\n"
     ]
    }
   ],
   "source": [
    "import math\n",
    "import random\n",
    "\n",
    "nums = list(range(1, 43))\n",
    "print(nums)\n",
    "\n",
    "def shuffleNums(arr, len):\n",
    "    for i in range(len - 1, 0, -1):\n",
    "        j = random.randint(0, i + 1)\n",
    "        arr[i], arr[j] = arr[j], arr[i]\n",
    "    return arr\n",
    "\n",
    "shuffleNums(nums, len(nums))\n",
    "print(nums)\n",
    "\n",
    "placedNums = [0] * 14\n",
    "helperArr = []\n",
    "\n",
    "# placedNums.append(nums.pop(0))\n",
    "# print(placedNums, nums)\n",
    "game = True\n",
    "\n",
    "\n",
    "def placeNumber(num, position):\n",
    "    while placedNums[position - 1] != 0:\n",
    "        position = int(input(f\"That position is already filled, choose another for {num}\"))\n",
    "    \n",
    "    placedNums[position - 1] = num\n",
    "\n",
    "\n",
    "def checkPlacedNumbers():\n",
    "    \"\"\"Check if all placed numbers are in increasing order\"\"\"\n",
    "    non_zero_nums = [num for num in placedNums if num != 0]  # Extract placed numbers\n",
    "    \n",
    "    for i in range(len(non_zero_nums) - 1):\n",
    "        if non_zero_nums[i] > non_zero_nums[i + 1]:  # Compare each with the next\n",
    "            return False  # Game over condition\n",
    "\n",
    "    return True  # If all are in order, continue game\n",
    "\n",
    "\n",
    "while game:\n",
    "    num = nums.pop(0)\n",
    "    res = int(input(f\"Choose a position for {num}\"))\n",
    "    placeNumber(num, res)\n",
    "    print(placedNums)\n",
    "    game = checkPlacedNumbers()\n",
    "    print(game)\n",
    "    if not game:\n",
    "        print(\"game over\")\n",
    "        break\n",
    "    \n",
    "    "
   ]
  },
  {
   "cell_type": "code",
   "execution_count": null,
   "metadata": {},
   "outputs": [],
   "source": [
    "nums = list(range(1, 43))\n",
    "print(nums)\n",
    "\n",
    "def shuffleNums(arr, len):\n",
    "    for i in range(len - 1, 0, -1):\n",
    "        j = random.randint(0, i + 1)\n",
    "        arr[i], arr[j] = arr[j], arr[i]\n",
    "    return arr\n",
    "\n",
    "shuffleNums(nums, len(nums))\n",
    "print(nums)\n",
    "\n"
   ]
  }
 ],
 "metadata": {
  "kernelspec": {
   "display_name": "venv",
   "language": "python",
   "name": "python3"
  },
  "language_info": {
   "codemirror_mode": {
    "name": "ipython",
    "version": 3
   },
   "file_extension": ".py",
   "mimetype": "text/x-python",
   "name": "python",
   "nbconvert_exporter": "python",
   "pygments_lexer": "ipython3",
   "version": "3.13.1"
  }
 },
 "nbformat": 4,
 "nbformat_minor": 2
}

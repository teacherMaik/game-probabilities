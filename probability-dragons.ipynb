{
 "cells": [
  {
   "cell_type": "markdown",
   "metadata": {},
   "source": [
    "4 different dragons to fight against: red, yellow, blue & green\n",
    "On your turn you have 3 possible dice rolls.\n",
    "You start wuth four dice with 6 colors: red, yellow, blue, green, silver & black\n",
    "If you roll black that dice falls down a well (eliminated from round)\n",
    "Silver is wild.\n",
    "On any givien roll, you choose a color rolled and put ALL of those dice on a dragon. you get the points for that dragon this turn.\n",
    "If you decide to roll again, you can only put the newly rolled dice on a dragon with no dice yet.\n",
    "\n",
    "ej first roll: 1 silver, 1 red, 1 black, 1 yellow: lose the black dice, put the yellow dice on yellow dragon:\n",
    "ej second roll: 1 silver & 1 blue: you must put both dice on the blue dragon"
   ]
  },
  {
   "cell_type": "code",
   "execution_count": null,
   "metadata": {},
   "outputs": [
    {
     "name": "stdout",
     "output_type": "stream",
     "text": [
      "0\n",
      "['black', 'black', 'silver', 'red']\n"
     ]
    }
   ],
   "source": [
    "import math\n",
    "import random\n",
    "\n",
    "dice = ['red', 'yellow', 'blue', 'green', 'silver', 'black']\n",
    "numDice = 4\n",
    "positions = ['red', 'yellow', 'blue', 'green', 'pozo']\n",
    "\n",
    "rand = random.randint(0, len(dice) - 1)\n",
    "print(rand)\n",
    "diceRolled = []\n",
    "\n",
    "dragon_red = []\n",
    "dragon_yellow = []\n",
    "dragon_blue = []\n",
    "dragon_green = []\n",
    "pozo = []\n",
    "\n",
    "def rollDice():\n",
    "    diceRolled = []\n",
    "\n",
    "    for i in range(1, 5):\n",
    "        diceRolled.append(dice[random.randint(0, len(dice) - 1)])\n",
    "    print(diceRolled)\n",
    "\n",
    "\n",
    "rollDice()\n",
    "\n"
   ]
  }
 ],
 "metadata": {
  "kernelspec": {
   "display_name": "venv",
   "language": "python",
   "name": "python3"
  },
  "language_info": {
   "codemirror_mode": {
    "name": "ipython",
    "version": 3
   },
   "file_extension": ".py",
   "mimetype": "text/x-python",
   "name": "python",
   "nbconvert_exporter": "python",
   "pygments_lexer": "ipython3",
   "version": "3.13.1"
  }
 },
 "nbformat": 4,
 "nbformat_minor": 2
}

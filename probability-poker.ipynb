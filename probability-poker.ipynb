{
 "cells": [
  {
   "cell_type": "markdown",
   "metadata": {},
   "source": [
    "Poker Hands:\n",
    "- pair: Any 2 same cards\n",
    "- three of a kind: Any 3 same cards\n",
    "- two-pair: Any 2 pairs of any 2 cards\n",
    "- straight: any sequence of 5 cards\n",
    "- full-house: any 3 of a kind and pair\n",
    "- four of a kind: Any 4 same cards\n",
    "- flush: And 5 cards of same suit\n",
    "- straight-flush: Any straight of same suit"
   ]
  },
  {
   "cell_type": "code",
   "execution_count": null,
   "metadata": {},
   "outputs": [
    {
     "name": "stdout",
     "output_type": "stream",
     "text": [
      "['7H', 'QH', 'AH', '8H', '6H', '3H', '4H', 'JH', '5H', '10H', 'KH', '2H', '9H', '7C', 'QC', 'AC', '8C', '6C', '3C', '4C', 'JC', '5C', '10C', 'KC', '2C', '9C', '7S', 'QS', 'AS', '8S', '6S', '3S', '4S', 'JS', '5S', '10S', 'KS', '2S', '9S', '7D', 'QD', 'AD', '8D', '6D', '3D', '4D', 'JD', '5D', '10D', 'KD', '2D', '9D']\n",
      "2598960.0\n",
      "2598960.0\n",
      "2598960.0\n",
      "2598960\n",
      "['QS', 'QH', '6S', 'QD', '2C', '7S', '3H', 'JD', '5S', 'AC', '8S', '2D', '7H', 'AH', '6H', '5H', '10H', '10D', '6C', 'KD', '3D', '4S', '7C', '3C', '9S', '9D', '8C', '2S', '10S', 'KH', '8D', '5D', '5C', 'KC', '9C', '4C', 'QC', '9H', '4D', '8H', 'KS', '10C', '2H', '4H', 'AS', '3S', '7D', '6D', 'AD', 'JH', 'JC', 'JS']\n",
      "[['QS', '6S', '2C', '3H', '5S'], ['QH', 'QD', '7S', 'JD', 'AC']]\n"
     ]
    }
   ],
   "source": [
    "import random\n",
    "import math\n",
    "import itertools\n",
    "\n",
    "suits = {'S', 'H', 'C', 'D'}\n",
    "vals = {'A', '2', '3', '4', '5', '6', '7', '8', '9', '10', 'J', 'Q', 'K'}\n",
    "\n",
    "deck = []\n",
    "for suit in suits:\n",
    "    for val in vals:\n",
    "        deck.append(val + suit)\n",
    "\n",
    "print(deck)\n",
    "# cardsDict = set(deck)\n",
    "\n",
    "num_cards_deck = len(deck)\n",
    "num_cards_hand = 5\n",
    "\n",
    "# Python a pelo\n",
    "fact_deck = 1\n",
    "fact_hands = 1\n",
    "fact_deck_hands = 1\n",
    "\n",
    "for i in range(1, num_cards_deck + 1):\n",
    "    fact_deck *= i\n",
    "    if i == num_cards_hand:\n",
    "        fact_hands = fact_deck  # Store r!\n",
    "    if i == num_cards_deck - num_cards_hand:\n",
    "        fact_deck_hands = fact_deck  # Store (n-r)!\n",
    "\n",
    "num_hands = fact_deck / (fact_hands * fact_deck_hands)\n",
    "print(num_hands)\n",
    "\n",
    "# defining a function to call with any deck and number of cards, python a pelo\n",
    "def calcCombsNative(cards_total, cards_hand):\n",
    "    fact_deck = 1\n",
    "    fact_hands = 1\n",
    "    fact_deck_hands = 1\n",
    "\n",
    "    for i in range(1, cards_total + 1):\n",
    "        fact_deck *= i\n",
    "        if i == cards_hand:\n",
    "            fact_hands = fact_deck  # Store r!\n",
    "        if i == cards_total - cards_hand:\n",
    "            fact_deck_hands = fact_deck  # Store (n-r)!\n",
    "    return fact_deck / (fact_hands * fact_deck_hands)\n",
    "\n",
    "hand_combs_native = calcCombsNative(num_cards_deck, num_cards_hand)\n",
    "print(hand_combs_native)\n",
    "\n",
    "# defining a function to call with any deck and hand size, using math.factorial and combination equation\n",
    "# We use combination and not permutation because order DOES NOT MATTER\n",
    "def calcCombsFact(n, r):\n",
    "    return math.factorial(n) / (math.factorial(n - r) * math.factorial(r))\n",
    "\n",
    "hand_combs_fact = calcCombsFact(num_cards_deck, num_cards_hand)\n",
    "print(hand_combs_fact)\n",
    "\n",
    "\n",
    "# using itertools\n",
    "hand_combs_itertools = len(list(itertools.combinations(deck, 5)))\n",
    "print(hand_combs_itertools)\n",
    "\n",
    "# Function to shuffle deeck array, fusher yates\n",
    "def shuffleDeck(arr, len):\n",
    "    for i in range(len - 1, 0, -1):\n",
    "        j = random.randint(0, i + 1)\n",
    "        arr[i], arr[j] = arr[j], arr[i]\n",
    "    return arr\n",
    "\n",
    "# function to deal hand\n",
    "def deal_hand(num_players, num_cards, game_deck):\n",
    "\n",
    "    temp_deck = game_deck.copy()\n",
    "    shuffleDeck(temp_deck, len(temp_deck))\n",
    "    print(temp_deck)\n",
    "    # Create a list of empty lists for each player\n",
    "    players = [[] for _ in range(num_players)]\n",
    "\n",
    "    # Deal cards to players\n",
    "    for _ in range(num_cards):\n",
    "        for i in range(num_players):\n",
    "            if temp_deck:  # Ensure there are enough cards in the deck\n",
    "                players[i].append(temp_deck.pop(0))  # Deal from the top of the deck\n",
    "\n",
    "    return players\n",
    "\n",
    "\n",
    "player_hands = deal_hand(2, 5, deck)\n",
    "print(player_hands)\n"
   ]
  },
  {
   "cell_type": "markdown",
   "metadata": {},
   "source": [
    "5 Card Draw: Players recieve 5 cards, may discard as many as they like and recieve that many new cards on 2cnd deal"
   ]
  },
  {
   "cell_type": "code",
   "execution_count": null,
   "metadata": {},
   "outputs": [
    {
     "name": "stdout",
     "output_type": "stream",
     "text": [
      "13.0 6.0 220.0\n",
      "0.4225690276110444\n",
      "0.0475390156062425\n",
      "0.02112845138055222\n",
      "0.0014405762304921968\n"
     ]
    }
   ],
   "source": [
    "# probabilities for 1 draw\n",
    "# combintation of first draw rank (value) -> 13c1\n",
    "# combinations of drawing 2 equal ranks (values) -> 4c2\n",
    "# combinations of drawing 3 other ranks different than paired -> 12c3 (only 3 cards from remaining 12 ranks)\n",
    "# combinations of drawing  each of the 3 cards different suits (so they are not pairs themselves) -> 4c1 * 4c1 * 4c1 -> 4^3\n",
    "\n",
    "P_rank = calcCombsFact(13, 1)\n",
    "P_second_rank = calcCombsFact(4, 2)\n",
    "P_different_card = calcCombsFact(12, 3)\n",
    "\n",
    "print(P_rank, P_second_rank, P_different_card)\n",
    "\n",
    "P_pair = (calcCombsFact(13, 1) * calcCombsFact(4, 2) * calcCombsFact(12, 3) * (calcCombsFact(4, 1) * calcCombsFact(4, 1) * calcCombsFact(4, 1))) / calcCombsFact(52, 5)\n",
    "print(P_pair)\n",
    "\n",
    "P_two_pair = (calcCombsFact(13, 2) * calcCombsFact(4, 2) * calcCombsFact(4, 2) * calcCombsFact(11, 1) * calcCombsFact(4, 1)) / calcCombsFact(52, 5)\n",
    "print(P_two_pair)\n",
    "\n",
    "P_three_of_a_kind = (calcCombsFact(13, 1) * calcCombsFact(4, 3) * calcCombsFact(12, 2) * (calcCombsFact(4, 1) * calcCombsFact(4, 1))) / calcCombsFact(52, 5)\n",
    "print(P_three_of_a_kind)\n",
    "\n",
    "P_full_house = (calcCombsFact(13, 1) * calcCombsFact(4, 3) * calcCombsFact(12, 1) * calcCombsFact(4, 2)) / calcCombsFact(52, 5)\n",
    "print(P_full_house)\n",
    "\n",
    "P_\n",
    "\n",
    "# def prob_pair (game_deck, num_players, num_cards, num_rounds):\n",
    "    "
   ]
  }
 ],
 "metadata": {
  "kernelspec": {
   "display_name": "venv",
   "language": "python",
   "name": "python3"
  },
  "language_info": {
   "codemirror_mode": {
    "name": "ipython",
    "version": 3
   },
   "file_extension": ".py",
   "mimetype": "text/x-python",
   "name": "python",
   "nbconvert_exporter": "python",
   "pygments_lexer": "ipython3",
   "version": "3.13.1"
  }
 },
 "nbformat": 4,
 "nbformat_minor": 2
}

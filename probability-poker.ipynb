{
 "cells": [
  {
   "cell_type": "markdown",
   "metadata": {},
   "source": [
    "Poker Hands:\n",
    "- pair: Any 2 same cards\n",
    "- three of a kind: Any 3 same cards\n",
    "- two-pair: Any 2 pairs of any 2 cards\n",
    "- straight: any sequence of 5 cards\n",
    "- full-house: any 3 of a kind and pair\n",
    "- four of a kind: Any 4 same cards\n",
    "- flush: And 5 cards of same suit\n",
    "- straight-flush: Any straight of same suit"
   ]
  },
  {
   "cell_type": "code",
   "execution_count": null,
   "metadata": {},
   "outputs": [
    {
     "name": "stdout",
     "output_type": "stream",
     "text": [
      "['2D', '3D', '4D', 'QD', 'KD', '8D', '10D', 'AD', '6D', 'JD', '9D', '7D', '5D', '2C', '3C', '4C', 'QC', 'KC', '8C', '10C', 'AC', '6C', 'JC', '9C', '7C', '5C', '2H', '3H', '4H', 'QH', 'KH', '8H', '10H', 'AH', '6H', 'JH', '9H', '7H', '5H', '2S', '3S', '4S', 'QS', 'KS', '8S', '10S', 'AS', '6S', 'JS', '9S', '7S', '5S']\n"
     ]
    }
   ],
   "source": [
    "from random import randint\n",
    "\n",
    "numCards = 52\n",
    "suits = {'S', 'H', 'C', 'D'}\n",
    "vals = {'A', '2', '3', '4', '5', '6', '7', '8', '9', '10', 'J', 'Q', 'K'}\n",
    "\n",
    "deck = []\n",
    "for suit in suits:\n",
    "    for val in vals:\n",
    "        deck.append(val + suit)\n",
    "\n",
    "print(deck)\n",
    "cardsDict = set(deck)\n",
    "\n",
    "def shuffleDeck(arr, len):\n",
    "    for i in range(len - 1, 0, -1):\n",
    "        j = randint(0, i + 1)\n",
    "        arr[i], arr[j] = arr[j], arr[i]\n",
    "    return arr\n",
    "\n",
    "def deal_cards(players, numCards):\n",
    "    i = 0\n",
    "    while i < numCards:\n",
    "        for player in players:\n",
    "            player[]"
   ]
  },
  {
   "cell_type": "code",
   "execution_count": null,
   "metadata": {},
   "outputs": [
    {
     "name": "stdout",
     "output_type": "stream",
     "text": [
      "['2D', '3D', '4D', 'QD', 'KD', '8D', '10D', 'AD', '6D', 'JD', '9D', '7D', '5D', '2C', '3C', '4C', 'QC', 'KC', '8C', '10C', 'AC', '6C', 'JC', '9C', '7C', '5C', '2H', '3H', '4H', 'QH', 'KH', '8H', '10H', 'AH', '6H', 'JH', '9H', '7H', '5H', '2S', '3S', '4S', 'QS', 'KS', '8S', '10S', 'AS', '6S', 'JS', '9S', '7S', '5S']\n",
      "['8D', '8H', 'QC', '4D', '7S', 'AS', 'AH', 'KS', '3D', '10C', '2H', '10H', '2C', '4C', 'JH', 'KH', '7D', 'AD', '9C', '4S', '6D', '2D', '5D', '5H', '9D', '7C', '8S', 'JS', 'KC', 'JD', 'QS', '3S', '5C', '10D', '3H', '4H', '6S', '8C', '3C', '7H', '10S', '6H', '9S', 'QH', 'KD', 'AC', 'JC', '2S', '5S', 'QD', '6C', '9H']\n"
     ]
    }
   ],
   "source": [
    "# One player game\n",
    "# One Draw\n",
    "\n",
    "print(deck)\n",
    "shuffleDeck(deck, len(deck))\n",
    "print(deck)\n",
    "\n",
    "\n",
    "\n",
    "\n"
   ]
  },
  {
   "cell_type": "markdown",
   "metadata": {},
   "source": [
    "5 Card Draw: Players recieve 5 cards, may discard as many as they like and recieve that many new cards on 2cnd deal"
   ]
  },
  {
   "cell_type": "code",
   "execution_count": null,
   "metadata": {},
   "outputs": [
    {
     "name": "stdout",
     "output_type": "stream",
     "text": [
      "{'2', '3', '4', 'Q', 'K', '8', '10', 'A', '6', 'J', '9', '7', '5'}\n",
      "['2D', '3D', '4D', 'QD', 'KD', '8D', '10D', 'AD', '6D', 'JD', '9D', '7D', '5D', '2C', '3C', '4C', 'QC', 'KC', '8C', '10C', 'AC', '6C', 'JC', '9C', '7C', '5C', '2H', '3H', '4H', 'QH', 'KH', '8H', '10H', 'AH', '6H', 'JH', '9H', '7H', '5H', '2S', '3S', '4S', 'QS', 'KS', '8S', '10S', 'AS', '6S', 'JS', '9S', '7S', '5S']\n",
      "{'4D', 'QS', 'QD', '5S', '2D', '10C', '3H', '2C', '8S', '10H', '7C', 'KH', '5D', '3C', '8C', 'AH', 'KC', '7D', '2S', 'JC', '10S', '2H', '4C', '4H', '6C', '7S', 'JD', 'QH', 'JS', 'KS', '6S', 'KD', '9C', '8H', '7H', '3S', '6D', '5H', 'AC', '5C', '9S', '9D', '6H', 'QC', 'AS', '10D', '3D', '9H', '4S', 'JH', '8D', 'AD'}\n"
     ]
    }
   ],
   "source": [
    "\n",
    "\n"
   ]
  }
 ],
 "metadata": {
  "kernelspec": {
   "display_name": "venv",
   "language": "python",
   "name": "python3"
  },
  "language_info": {
   "codemirror_mode": {
    "name": "ipython",
    "version": 3
   },
   "file_extension": ".py",
   "mimetype": "text/x-python",
   "name": "python",
   "nbconvert_exporter": "python",
   "pygments_lexer": "ipython3",
   "version": "3.13.1"
  }
 },
 "nbformat": 4,
 "nbformat_minor": 2
}

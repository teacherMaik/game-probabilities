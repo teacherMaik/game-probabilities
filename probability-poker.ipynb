{
 "cells": [
  {
   "cell_type": "markdown",
   "metadata": {},
   "source": [
    "Poker Hands:\n",
    "- pair: Any 2 same cards\n",
    "- three of a kind: Any 3 same cards\n",
    "- two-pair: Any 2 pairs of any 2 cards\n",
    "- straight: any sequence of 5 cards\n",
    "- full-house: any 3 of a kind and pair\n",
    "- four of a kind: Any 4 same cards\n",
    "- flush: And 5 cards of same suit\n",
    "- straight-flush: Any straight of same suit"
   ]
  },
  {
   "cell_type": "code",
   "execution_count": null,
   "metadata": {},
   "outputs": [
    {
     "name": "stdout",
     "output_type": "stream",
     "text": [
      "['QS', '3S', 'KS', '9S', '7S', '8S', '10S', 'AS', '5S', '4S', '6S', 'JS', '2S', 'QH', '3H', 'KH', '9H', '7H', '8H', '10H', 'AH', '5H', '4H', '6H', 'JH', '2H', 'QC', '3C', 'KC', '9C', '7C', '8C', '10C', 'AC', '5C', '4C', '6C', 'JC', '2C', 'QD', '3D', 'KD', '9D', '7D', '8D', '10D', 'AD', '5D', '4D', '6D', 'JD', '2D']\n",
      "2598960.0\n",
      "2598960.0\n",
      "2598960.0\n",
      "2598960\n",
      "['KC', '6D', '8S', '9S', 'JH', '6H', 'AD', '9H', '5D', '8C', 'QD', '6S', '2D', 'KD', '8H', '3H', '8D', '6C', 'AC', '5C', '5H', '7C', '3D', '3S', '9D', 'QS', 'KS', 'KH', '10C', '2C', '9C', '10D', 'AS', 'QH', '3C', 'JS', '7D', '10H', '5S', 'QC', '4C', 'JC', '4S', 'AH', '4D', '10S', '2H', '2S', 'JD', '4H', '7H', '7S']\n",
      "[['KC', '8S', 'JH', 'AD', '5D'], ['6D', '9S', '6H', '9H', '8C']]\n"
     ]
    }
   ],
   "source": [
    "import random\n",
    "import math\n",
    "import itertools\n",
    "\n",
    "suits = {'S', 'H', 'C', 'D'}\n",
    "vals = {'A', '2', '3', '4', '5', '6', '7', '8', '9', '10', 'J', 'Q', 'K'}\n",
    "\n",
    "deck = []\n",
    "for suit in suits:\n",
    "    for val in vals:\n",
    "        deck.append(val + suit)\n",
    "\n",
    "print(deck)\n",
    "# cardsDict = set(deck)\n",
    "\n",
    "num_cards_deck = len(deck)\n",
    "num_cards_hand = 5\n",
    "\n",
    "# Python a pelo\n",
    "fact_deck = 1\n",
    "fact_hands = 1\n",
    "fact_deck_hands = 1\n",
    "\n",
    "for i in range(1, num_cards_deck + 1):\n",
    "    fact_deck *= i\n",
    "    if i == num_cards_hand:\n",
    "        fact_hands = fact_deck  # Store r!\n",
    "    if i == num_cards_deck - num_cards_hand:\n",
    "        fact_deck_hands = fact_deck  # Store (n-r)!\n",
    "\n",
    "num_hands = fact_deck / (fact_hands * fact_deck_hands)\n",
    "print(num_hands)\n",
    "\n",
    "# defining a function to call with any deck and number of cards, python a pelo\n",
    "def calcCombsNative(cards_total, cards_hand):\n",
    "    fact_deck = 1\n",
    "    fact_hands = 1\n",
    "    fact_deck_hands = 1\n",
    "\n",
    "    for i in range(1, cards_total + 1):\n",
    "        fact_deck *= i\n",
    "        if i == cards_hand:\n",
    "            fact_hands = fact_deck  # Store r!\n",
    "        if i == cards_total - cards_hand:\n",
    "            fact_deck_hands = fact_deck  # Store (n-r)!\n",
    "    return fact_deck / (fact_hands * fact_deck_hands)\n",
    "\n",
    "hand_combs_native = calcCombsNative(num_cards_deck, num_cards_hand)\n",
    "print(hand_combs_native)\n",
    "\n",
    "# defining a function to call with any deck and hand size, using math.factorial and combination equation\n",
    "# We use combination and not permutation because order DOES NOT MATTER\n",
    "def calcCombsFact(cards_total, cards_hand):\n",
    "    return math.factorial(cards_total) / (math.factorial(num_cards_deck - cards_hand) * math.factorial(cards_hand))\n",
    "\n",
    "hand_combs_fact = calcCombsFact(num_cards_deck, num_cards_hand)\n",
    "print(hand_combs_fact)\n",
    "\n",
    "\n",
    "# using itertools\n",
    "hand_combs_itertools = len(list(itertools.combinations(deck, 5)))\n",
    "print(hand_combs_itertools)\n",
    "\n",
    "# Function to shuffle deeck array, fusher yates\n",
    "def shuffleDeck(arr, len):\n",
    "    for i in range(len - 1, 0, -1):\n",
    "        j = random.randint(0, i + 1)\n",
    "        arr[i], arr[j] = arr[j], arr[i]\n",
    "    return arr\n",
    "\n",
    "# function to deal hand\n",
    "def deal_hand(num_players, num_cards, game_deck):\n",
    "\n",
    "    temp_deck = game_deck.copy()\n",
    "    shuffleDeck(temp_deck, len(temp_deck))\n",
    "    print(temp_deck)\n",
    "    # Create a list of empty lists for each player\n",
    "    players = [[] for _ in range(num_players)]\n",
    "\n",
    "    # Deal cards to players\n",
    "    for _ in range(num_cards):\n",
    "        for i in range(num_players):\n",
    "            if temp_deck:  # Ensure there are enough cards in the deck\n",
    "                players[i].append(temp_deck.pop(0))  # Deal from the top of the deck\n",
    "\n",
    "    return players\n",
    "\n",
    "\n",
    "player_hands = deal_hand(2, 5, deck)\n",
    "print(player_hands)\n"
   ]
  },
  {
   "cell_type": "markdown",
   "metadata": {},
   "source": [
    "5 Card Draw: Players recieve 5 cards, may discard as many as they like and recieve that many new cards on 2cnd deal"
   ]
  },
  {
   "cell_type": "code",
   "execution_count": null,
   "metadata": {},
   "outputs": [
    {
     "name": "stdout",
     "output_type": "stream",
     "text": [
      "{'2', '3', '4', 'Q', 'K', '8', '10', 'A', '6', 'J', '9', '7', '5'}\n",
      "['2D', '3D', '4D', 'QD', 'KD', '8D', '10D', 'AD', '6D', 'JD', '9D', '7D', '5D', '2C', '3C', '4C', 'QC', 'KC', '8C', '10C', 'AC', '6C', 'JC', '9C', '7C', '5C', '2H', '3H', '4H', 'QH', 'KH', '8H', '10H', 'AH', '6H', 'JH', '9H', '7H', '5H', '2S', '3S', '4S', 'QS', 'KS', '8S', '10S', 'AS', '6S', 'JS', '9S', '7S', '5S']\n",
      "{'4D', 'QS', 'QD', '5S', '2D', '10C', '3H', '2C', '8S', '10H', '7C', 'KH', '5D', '3C', '8C', 'AH', 'KC', '7D', '2S', 'JC', '10S', '2H', '4C', '4H', '6C', '7S', 'JD', 'QH', 'JS', 'KS', '6S', 'KD', '9C', '8H', '7H', '3S', '6D', '5H', 'AC', '5C', '9S', '9D', '6H', 'QC', 'AS', '10D', '3D', '9H', '4S', 'JH', '8D', 'AD'}\n"
     ]
    }
   ],
   "source": [
    "# probabilities for 1 draw\n",
    "# combintation of first draw rank (value) -> 13c1\n",
    "# combinations of drawing 2 equal ranks (values) -> 4c2\n",
    "# combinations of drawing 3 other ranks different than paired -> 12c3 (only 3 cards from remaining 12 ranks)\n",
    "# combinations of drawing  each of the 3 cards different suits (so they are not pairs themselves) -> 4c1 * 4c1 * 4c1 -> 4^3\n",
    "\n",
    "def prob_pair (game_deck, num_players, num_cards, num_rounds):\n",
    "    combs_vals = "
   ]
  }
 ],
 "metadata": {
  "kernelspec": {
   "display_name": "venv",
   "language": "python",
   "name": "python3"
  },
  "language_info": {
   "codemirror_mode": {
    "name": "ipython",
    "version": 3
   },
   "file_extension": ".py",
   "mimetype": "text/x-python",
   "name": "python",
   "nbconvert_exporter": "python",
   "pygments_lexer": "ipython3",
   "version": "3.13.1"
  }
 },
 "nbformat": 4,
 "nbformat_minor": 2
}

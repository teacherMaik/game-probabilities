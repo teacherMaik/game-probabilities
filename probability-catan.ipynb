{
 "cells": [
  {
   "cell_type": "markdown",
   "metadata": {},
   "source": [
    "On their turn, each player rolls two dice. The resulting number of adding the dice values will give resources to each player."
   ]
  },
  {
   "cell_type": "code",
   "execution_count": 4,
   "metadata": {},
   "outputs": [
    {
     "name": "stdout",
     "output_type": "stream",
     "text": [
      "[[('1', '1'), 2], [('1', '2'), 3], [('1', '3'), 4], [('1', '4'), 5], [('1', '5'), 6], [('1', '6'), 7], [('2', '1'), 3], [('2', '2'), 4], [('2', '3'), 5], [('2', '4'), 6], [('2', '5'), 7], [('2', '6'), 8], [('3', '1'), 4], [('3', '2'), 5], [('3', '3'), 6], [('3', '4'), 7], [('3', '5'), 8], [('3', '6'), 9], [('4', '1'), 5], [('4', '2'), 6], [('4', '3'), 7], [('4', '4'), 8], [('4', '5'), 9], [('4', '6'), 10], [('5', '1'), 6], [('5', '2'), 7], [('5', '3'), 8], [('5', '4'), 9], [('5', '5'), 10], [('5', '6'), 11], [('6', '1'), 7], [('6', '2'), 8], [('6', '3'), 9], [('6', '4'), 10], [('6', '5'), 11], [('6', '6'), 12]]\n",
      "[1, 2, 3, 4, 5, 6]\n",
      "[1, 2, 3, 4, 5, 6]\n",
      "[2, 3, 4, 5, 6, 7, 3, 4, 5, 6, 7, 8, 4, 5, 6, 7, 8, 9, 5, 6, 7, 8, 9, 10, 6, 7, 8, 9, 10, 11, 7, 8, 9, 10, 11, 12]\n"
     ]
    }
   ],
   "source": [
    "dice_one = list(range(1, 7))\n",
    "dice_two = list(range(1, 7))\n",
    "\n",
    "rolls = []\n",
    "sums_rolls = []\n",
    "\n",
    "for i in dice_one:\n",
    "    for j in dice_two:\n",
    "        sums_rolls.append(i + j)\n",
    "        rolls.append([(str(i), str(j)), i + j])\n",
    "\n",
    "sums_rolls_muestra = set(sums_rolls)\n",
    "\n",
    "\n",
    "print(rolls)\n",
    "print(dice_one)\n",
    "print(dice_two)\n",
    "print(sums_rolls)"
   ]
  }
 ],
 "metadata": {
  "kernelspec": {
   "display_name": "venv",
   "language": "python",
   "name": "python3"
  },
  "language_info": {
   "codemirror_mode": {
    "name": "ipython",
    "version": 3
   },
   "file_extension": ".py",
   "mimetype": "text/x-python",
   "name": "python",
   "nbconvert_exporter": "python",
   "pygments_lexer": "ipython3",
   "version": "3.13.1"
  }
 },
 "nbformat": 4,
 "nbformat_minor": 2
}
